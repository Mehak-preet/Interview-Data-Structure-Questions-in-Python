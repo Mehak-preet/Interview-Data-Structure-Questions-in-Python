{
 "cells": [
  {
   "cell_type": "code",
   "execution_count": 2,
   "metadata": {},
   "outputs": [
    {
     "name": "stdout",
     "output_type": "stream",
     "text": [
      "1 2 3 \n",
      "1 2 4 \n",
      "1 2 5 \n",
      "1 3 4 \n",
      "1 3 5 \n",
      "1 4 5 \n",
      "2 3 4 \n",
      "2 3 5 \n",
      "2 4 5 \n",
      "3 4 5 \n"
     ]
    }
   ],
   "source": [
    "def printCombination(arr, n, r):\n",
    " \n",
    "    data = [0]*r;\n",
    " \n",
    "    combinationUtil(arr, data, 0,\n",
    "                    n - 1, 0, r);\n",
    "def combinationUtil(arr, data, start,\n",
    "                    end, index, r):\n",
    " \n",
    "    if (index == r):\n",
    "        for j in range(r):\n",
    "            print(data[j], end = \" \");\n",
    "        print();\n",
    "        return;\n",
    " \n",
    "\n",
    "    i = start;\n",
    "    while(i <= end and end - i + 1 >= r - index):\n",
    "        data[index] = arr[i];\n",
    "        combinationUtil(arr, data, i + 1,\n",
    "                        end, index + 1, r);\n",
    "        i += 1;\n",
    " \n",
    "# Driver Code\n",
    "arr = [1, 2, 3, 4, 5];\n",
    "r = 3;\n",
    "n = len(arr);\n",
    "printCombination(arr, n, r);"
   ]
  },
  {
   "cell_type": "code",
   "execution_count": null,
   "metadata": {},
   "outputs": [],
   "source": []
  }
 ],
 "metadata": {
  "kernelspec": {
   "display_name": "Python 3",
   "language": "python",
   "name": "python3"
  },
  "language_info": {
   "codemirror_mode": {
    "name": "ipython",
    "version": 3
   },
   "file_extension": ".py",
   "mimetype": "text/x-python",
   "name": "python",
   "nbconvert_exporter": "python",
   "pygments_lexer": "ipython3",
   "version": "3.7.1"
  }
 },
 "nbformat": 4,
 "nbformat_minor": 2
}
