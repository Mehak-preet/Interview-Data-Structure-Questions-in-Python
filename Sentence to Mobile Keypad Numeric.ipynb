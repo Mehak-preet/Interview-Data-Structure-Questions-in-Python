{
 "cells": [
  {
   "cell_type": "code",
   "execution_count": 2,
   "metadata": {},
   "outputs": [
    {
     "name": "stdout",
     "output_type": "stream",
     "text": [
      "63344255777733338777744466444\n"
     ]
    }
   ],
   "source": [
    "def printSequence(arr, input):\n",
    " \n",
    "# length of input string\n",
    "    n = len(input)\n",
    "    output = \"\"\n",
    "     \n",
    "    for i in range(n):\n",
    "     \n",
    "        # checking for space\n",
    "        if(input[i] == ' '):\n",
    "            output = output + \"0\"\n",
    "        else:\n",
    "            # calculating index for each\n",
    "            # character        \n",
    "            position = ord(input[i]) - ord('A')\n",
    "            output = output + arr[position]\n",
    "    # output sequence    \n",
    "    return output\n",
    "     \n",
    "# Driver code\n",
    "str = [\"2\", \"22\", \"222\",\n",
    "       \"3\", \"33\", \"333\",\n",
    "       \"4\", \"44\", \"444\",\n",
    "       \"5\", \"55\", \"555\",\n",
    "       \"6\", \"66\", \"666\",\n",
    "       \"7\", \"77\", \"777\", \"7777\",\n",
    "       \"8\", \"88\", \"888\",\n",
    "       \"9\", \"99\", \"999\", \"9999\" ]\n",
    " \n",
    "input = \"MEHAKPREETSINGH\";\n",
    "print( printSequence(str, input))\n",
    "\n",
    " "
   ]
  },
  {
   "cell_type": "code",
   "execution_count": null,
   "metadata": {},
   "outputs": [],
   "source": []
  }
 ],
 "metadata": {
  "kernelspec": {
   "display_name": "Python 3",
   "language": "python",
   "name": "python3"
  },
  "language_info": {
   "codemirror_mode": {
    "name": "ipython",
    "version": 3
   },
   "file_extension": ".py",
   "mimetype": "text/x-python",
   "name": "python",
   "nbconvert_exporter": "python",
   "pygments_lexer": "ipython3",
   "version": "3.7.1"
  }
 },
 "nbformat": 4,
 "nbformat_minor": 2
}
