{
 "cells": [
  {
   "cell_type": "code",
   "execution_count": 14,
   "metadata": {},
   "outputs": [
    {
     "name": "stdout",
     "output_type": "stream",
     "text": [
      "Index of the element is :  8\n"
     ]
    }
   ],
   "source": [
    "def pivotedBinarySearch(arr,n,key):\n",
    "    pivot =findPivot(arr,0,n-1)\n",
    "    if pivot==-1:\n",
    "        return binarysearch(arr,0,n-1,key)\n",
    "    if arr[pivot]==key:\n",
    "        return pivot\n",
    "    if arr[0]<=key:\n",
    "        return binarysearch(arr,0,pivot-1,key)\n",
    "    return binarysearch(arr,pivot+1,n-1,key)\n",
    "def findPivot(arr,low,high):\n",
    "    if high<low:\n",
    "        return -1\n",
    "    if high==low:\n",
    "        return low\n",
    "    mid = int((low + high)/2)\n",
    "     \n",
    "    if mid < high and arr[mid] > arr[mid + 1]:\n",
    "        return mid\n",
    "    if mid > low and arr[mid] < arr[mid - 1]:\n",
    "        return (mid-1)\n",
    "    if arr[low] >= arr[mid]:\n",
    "        return findPivot(arr, low, mid-1)\n",
    "    return findPivot(arr, mid + 1, high)\n",
    "def binarysearch(arr,low,high,key):\n",
    "    if high < low:\n",
    "        return -1\n",
    "    mid = int((low + high)/2)\n",
    "     \n",
    "    if key == arr[mid]:\n",
    "        return mid\n",
    "    if key > arr[mid]:\n",
    "        return binarysearch(arr, (mid + 1), high,\n",
    "                                            key);\n",
    "    return binarysearch(arr, low, (mid -1), key);\n",
    " \n",
    "    \n",
    "arr1=[5, 6, 7, 8, 9, 10, 1, 2, 3]\n",
    "n=len(arr1)\n",
    "key=3\n",
    "print(\"Index of the element is : \",pivotedBinarySearch(arr1, n, key))"
   ]
  },
  {
   "cell_type": "markdown",
   "metadata": {},
   "source": []
  }
 ],
 "metadata": {
  "kernelspec": {
   "display_name": "Python 3",
   "language": "python",
   "name": "python3"
  },
  "language_info": {
   "codemirror_mode": {
    "name": "ipython",
    "version": 3
   },
   "file_extension": ".py",
   "mimetype": "text/x-python",
   "name": "python",
   "nbconvert_exporter": "python",
   "pygments_lexer": "ipython3",
   "version": "3.7.1"
  }
 },
 "nbformat": 4,
 "nbformat_minor": 2
}
