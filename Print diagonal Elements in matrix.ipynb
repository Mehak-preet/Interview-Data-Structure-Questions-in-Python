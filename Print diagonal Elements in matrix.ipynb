{
 "cells": [
  {
   "cell_type": "code",
   "execution_count": 1,
   "metadata": {},
   "outputs": [
    {
     "name": "stdout",
     "output_type": "stream",
     "text": [
      "Given matrix is \n",
      "1\t2\t3\t4\t\n",
      "5\t6\t7\t8\t\n",
      "9\t10\t11\t12\t\n",
      "13\t14\t15\t16\t\n",
      "17\t18\t19\t20\t\n",
      "\n",
      "Diagonal printing of matrix is \n",
      "1\t\n",
      "5\t2\t\n",
      "9\t6\t3\t\n",
      "13\t10\t7\t4\t\n",
      "17\t14\t11\t8\t\n",
      "18\t15\t12\t\n",
      "19\t16\t\n",
      "20\t\n"
     ]
    }
   ],
   "source": [
    "ROW = 5\n",
    "COL = 4\n",
    " \n",
    "# Main function that prints given\n",
    "# matrix in diagonal order\n",
    " \n",
    "def diagonalOrder(matrix):\n",
    "    for line in range(1, (ROW + COL)):\n",
    "        \n",
    "        start_col = max(0, line - ROW)\n",
    "        \n",
    "        count = min(line, (COL - start_col), ROW)\n",
    "        \n",
    "        for j in range(0, count):\n",
    "            \n",
    "            print(matrix[min(ROW, line) - j - 1]\n",
    "                        [start_col + j], end=\"\\t\")\n",
    " \n",
    "        print()\n",
    " \n",
    " \n",
    "# Utility function to print a matrix\n",
    "def printMatrix(matrix):\n",
    "    for i in range(0, ROW):\n",
    "        for j in range(0, COL):\n",
    "            print(matrix[i][j], end=\"\\t\")\n",
    " \n",
    "        print()\n",
    " \n",
    " \n",
    "M = [[1, 2, 3, 4],\n",
    "     [5, 6, 7, 8],\n",
    "     [9, 10, 11, 12],\n",
    "     [13, 14, 15, 16],\n",
    "     [17, 18, 19, 20]]\n",
    "print(\"Given matrix is \")\n",
    "printMatrix(M)\n",
    " \n",
    "print(\"\\nDiagonal printing of matrix is \")\n",
    "diagonalOrder(M)"
   ]
  },
  {
   "cell_type": "code",
   "execution_count": null,
   "metadata": {},
   "outputs": [],
   "source": []
  }
 ],
 "metadata": {
  "kernelspec": {
   "display_name": "Python 3",
   "language": "python",
   "name": "python3"
  },
  "language_info": {
   "codemirror_mode": {
    "name": "ipython",
    "version": 3
   },
   "file_extension": ".py",
   "mimetype": "text/x-python",
   "name": "python",
   "nbconvert_exporter": "python",
   "pygments_lexer": "ipython3",
   "version": "3.7.1"
  }
 },
 "nbformat": 4,
 "nbformat_minor": 2
}
