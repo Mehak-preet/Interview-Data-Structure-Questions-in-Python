{
 "cells": [
  {
   "cell_type": "code",
   "execution_count": 12,
   "metadata": {},
   "outputs": [
    {
     "name": "stdout",
     "output_type": "stream",
     "text": [
      "20\n",
      "80\n"
     ]
    }
   ],
   "source": [
    "def grt(ar1,ar2,ar3,n1,n2,n3):\n",
    "    i=0\n",
    "    j=0\n",
    "    k=0\n",
    "    while(i<n1 and j<n2 and k<n3):\n",
    "        if ar1[i]==ar2[j] and ar2[j]==ar3[k]:\n",
    "            print(ar3[k])\n",
    "            i=i+1\n",
    "            j=j+1\n",
    "            k=k+1\n",
    "        elif ar1[i]<ar2[j]:\n",
    "            i=i+1\n",
    "        elif ar2[j]<ar3[k]:\n",
    "            j=j+1\n",
    "        else:\n",
    "            k=k+1\n",
    "ar1 = [1, 5, 10, 20, 40, 80]\n",
    "ar2 = [6, 7, 20, 80, 100]\n",
    "ar3 = [3, 4, 15, 20, 30, 70, 80, 120]\n",
    "n1=len(ar1)\n",
    "n2=len(ar2)\n",
    "n3=len(ar3)\n",
    "grt(ar1,ar2,ar3,n1,n2,n3)"
   ]
  },
  {
   "cell_type": "code",
   "execution_count": null,
   "metadata": {},
   "outputs": [],
   "source": []
  }
 ],
 "metadata": {
  "kernelspec": {
   "display_name": "Python 3",
   "language": "python",
   "name": "python3"
  },
  "language_info": {
   "codemirror_mode": {
    "name": "ipython",
    "version": 3
   },
   "file_extension": ".py",
   "mimetype": "text/x-python",
   "name": "python",
   "nbconvert_exporter": "python",
   "pygments_lexer": "ipython3",
   "version": "3.7.1"
  }
 },
 "nbformat": 4,
 "nbformat_minor": 2
}
