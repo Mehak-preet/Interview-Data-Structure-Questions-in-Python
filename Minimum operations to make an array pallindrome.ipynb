{
 "cells": [
  {
   "cell_type": "code",
   "execution_count": 1,
   "metadata": {},
   "outputs": [
    {
     "name": "stdout",
     "output_type": "stream",
     "text": [
      "Count of minimum operations is 1\n"
     ]
    }
   ],
   "source": [
    "def findMinOps(arr, n):\n",
    "    ans = 0 \n",
    "    i,j = 0,n-1\n",
    "    while i<=j:\n",
    "        if arr[i] == arr[j]:\n",
    "            i += 1\n",
    "            j -= 1\n",
    "        elif arr[i] > arr[j]:\n",
    "            j -= 1\n",
    "            arr[j] += arr[j+1]\n",
    "            ans += 1\n",
    "\n",
    "        else:\n",
    "            i += 1\n",
    "            arr[i] += arr[i-1]\n",
    "            ans += 1\n",
    " \n",
    "    return ans\n",
    "arr = [1, 4, 5, 9, 1]\n",
    "n = len(arr)\n",
    "print(\"Count of minimum operations is \" + str(findMinOps(arr, n)))"
   ]
  },
  {
   "cell_type": "code",
   "execution_count": null,
   "metadata": {},
   "outputs": [],
   "source": []
  }
 ],
 "metadata": {
  "kernelspec": {
   "display_name": "Python 3",
   "language": "python",
   "name": "python3"
  },
  "language_info": {
   "codemirror_mode": {
    "name": "ipython",
    "version": 3
   },
   "file_extension": ".py",
   "mimetype": "text/x-python",
   "name": "python",
   "nbconvert_exporter": "python",
   "pygments_lexer": "ipython3",
   "version": "3.7.1"
  }
 },
 "nbformat": 4,
 "nbformat_minor": 2
}
