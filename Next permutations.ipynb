{
 "cells": [
  {
   "cell_type": "code",
   "execution_count": 9,
   "metadata": {},
   "outputs": [
    {
     "name": "stdout",
     "output_type": "stream",
     "text": [
      "None\n"
     ]
    }
   ],
   "source": [
    "def nextPermutation(nums):\n",
    "        n=len(nums)\n",
    "        pivot=0\n",
    "        for i in range(n-1,0,-1):\n",
    "            if nums[i-1]<nums[i]:\n",
    "                pivot=i\n",
    "                break\n",
    "        if pivot==0:\n",
    "            nums.sort()\n",
    "            return\n",
    "# Now do the swap where first number>pivot\n",
    "        swap=n-1\n",
    "        while nums[pivot-1]>=nums[swap]:\n",
    "            swap-= 1\n",
    "# swap\n",
    "        nums[swap],nums[pivot-1]=nums[pivot-1],nums[swap]\n",
    "        nums[pivot:]=sorted(nums[pivot:])\n",
    "nums=[1,3,2]\n",
    "print(nextPermutation(nums))"
   ]
  },
  {
   "cell_type": "code",
   "execution_count": null,
   "metadata": {},
   "outputs": [],
   "source": []
  }
 ],
 "metadata": {
  "kernelspec": {
   "display_name": "Python 3",
   "language": "python",
   "name": "python3"
  },
  "language_info": {
   "codemirror_mode": {
    "name": "ipython",
    "version": 3
   },
   "file_extension": ".py",
   "mimetype": "text/x-python",
   "name": "python",
   "nbconvert_exporter": "python",
   "pygments_lexer": "ipython3",
   "version": "3.7.1"
  }
 },
 "nbformat": 4,
 "nbformat_minor": 2
}
