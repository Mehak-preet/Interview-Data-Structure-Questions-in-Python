{
 "cells": [
  {
   "cell_type": "code",
   "execution_count": 3,
   "metadata": {},
   "outputs": [
    {
     "name": "stdout",
     "output_type": "stream",
     "text": [
      "s, count = 2\n",
      "t, count = 3\n",
      "None\n"
     ]
    }
   ],
   "source": [
    "NO_OF_CHARS = 256\n",
    "def fillCharCounts(string, count):\n",
    "    for i in string:\n",
    "        count[ord(i)] += 1\n",
    "    return count\n",
    " \n",
    "# Print duplicates present\n",
    "# in the passed string\n",
    "def printDups(string):\n",
    "     \n",
    "    # Create an array of size 256\n",
    "    # and fill count of every character in it\n",
    "    count = [0] * NO_OF_CHARS\n",
    "    count = fillCharCounts(string,count)\n",
    " \n",
    "    # Utility Variable\n",
    "    k = 0\n",
    " \n",
    "    # Print characters having\n",
    "    # count more than 0\n",
    "    for i in count:\n",
    "        if int(i) > 1:\n",
    "            print(chr(k) + \", count = \" + str(i))\n",
    "        k += 1\n",
    " \n",
    "string = \"test string\"\n",
    "print(printDups(string))\n",
    " "
   ]
  },
  {
   "cell_type": "code",
   "execution_count": null,
   "metadata": {},
   "outputs": [],
   "source": []
  }
 ],
 "metadata": {
  "kernelspec": {
   "display_name": "Python 3",
   "language": "python",
   "name": "python3"
  },
  "language_info": {
   "codemirror_mode": {
    "name": "ipython",
    "version": 3
   },
   "file_extension": ".py",
   "mimetype": "text/x-python",
   "name": "python",
   "nbconvert_exporter": "python",
   "pygments_lexer": "ipython3",
   "version": "3.7.1"
  }
 },
 "nbformat": 4,
 "nbformat_minor": 2
}
