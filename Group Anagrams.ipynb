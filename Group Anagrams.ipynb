{
 "cells": [
  {
   "cell_type": "code",
   "execution_count": 2,
   "metadata": {},
   "outputs": [
    {
     "name": "stdout",
     "output_type": "stream",
     "text": [
      "dict_values([['eat', 'tea', 'ate'], ['tan', 'nat'], ['bat'], ['des']])\n"
     ]
    }
   ],
   "source": [
    "def groupAnagrams(strs):\n",
    "        if len(strs)==0:\n",
    "            return [[\"\"]]\n",
    "        ans = {}\n",
    "        \n",
    "        for word in strs:\n",
    "            temp = ''.join(sorted(word))\n",
    "            if temp in ans:\n",
    "                ans[temp].append(word)\n",
    "            else:\n",
    "                ans[temp] = [word]\n",
    "        return ans.values()\n",
    "strs=[\"eat\",\"tea\",\"tan\",\"ate\",\"nat\",\"bat\",\"des\"]\n",
    "print(groupAnagrams(strs))"
   ]
  },
  {
   "cell_type": "code",
   "execution_count": null,
   "metadata": {},
   "outputs": [],
   "source": []
  }
 ],
 "metadata": {
  "kernelspec": {
   "display_name": "Python 3",
   "language": "python",
   "name": "python3"
  },
  "language_info": {
   "codemirror_mode": {
    "name": "ipython",
    "version": 3
   },
   "file_extension": ".py",
   "mimetype": "text/x-python",
   "name": "python",
   "nbconvert_exporter": "python",
   "pygments_lexer": "ipython3",
   "version": "3.7.1"
  }
 },
 "nbformat": 4,
 "nbformat_minor": 2
}
