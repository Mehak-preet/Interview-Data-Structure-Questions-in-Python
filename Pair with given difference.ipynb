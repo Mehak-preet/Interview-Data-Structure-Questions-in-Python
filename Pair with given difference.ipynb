{
 "cells": [
  {
   "cell_type": "code",
   "execution_count": 4,
   "metadata": {},
   "outputs": [
    {
     "name": "stdout",
     "output_type": "stream",
     "text": [
      "Enter the size of the  array5\n",
      "Enter the elements\n",
      "123\n",
      "100\n",
      "48\n",
      "96\n",
      "75\n",
      "Enter the difference 48\n",
      "Pair found ( 48 , 96 )\n"
     ]
    },
    {
     "data": {
      "text/plain": [
       "True"
      ]
     },
     "execution_count": 4,
     "metadata": {},
     "output_type": "execute_result"
    }
   ],
   "source": [
    "def findPair(arr,k):\n",
    " \n",
    "    size = len(arr)\n",
    "    arrr=sorted(arr)\n",
    " \n",
    "    # Initialize positions of two elements\n",
    "    i,j = 0,1\n",
    " \n",
    "    # Search for a pair\n",
    "    while i < size and j < size:\n",
    " \n",
    "        if i != j and arrr[j]-arrr[i] == k:\n",
    "            print(\"Pair found (\",arrr[i],\",\",arrr[j],\")\")\n",
    "            return True\n",
    " \n",
    "        elif arrr[j] - arrr[i] < k:\n",
    "            j+=1\n",
    "        else:\n",
    "            i+=1\n",
    "    print(\"No pair found\")\n",
    "    return False\n",
    " \n",
    "# Driver function to test above function\n",
    "arr = []\n",
    "n=int(input(\"Enter the size of the  array\"))\n",
    "print(\"Enter the elements\")\n",
    "for i in range(n):\n",
    "    a=int(input())\n",
    "    arr.append(a)\n",
    "\n",
    "k=int(input(\"Enter the difference \"))\n",
    "findPair(arr, k)"
   ]
  },
  {
   "cell_type": "code",
   "execution_count": null,
   "metadata": {},
   "outputs": [],
   "source": []
  }
 ],
 "metadata": {
  "kernelspec": {
   "display_name": "Python 3",
   "language": "python",
   "name": "python3"
  },
  "language_info": {
   "codemirror_mode": {
    "name": "ipython",
    "version": 3
   },
   "file_extension": ".py",
   "mimetype": "text/x-python",
   "name": "python",
   "nbconvert_exporter": "python",
   "pygments_lexer": "ipython3",
   "version": "3.7.1"
  }
 },
 "nbformat": 4,
 "nbformat_minor": 2
}
