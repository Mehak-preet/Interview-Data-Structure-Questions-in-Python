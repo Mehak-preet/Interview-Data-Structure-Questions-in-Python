{
 "cells": [
  {
   "cell_type": "code",
   "execution_count": 3,
   "metadata": {},
   "outputs": [
    {
     "data": {
      "text/plain": [
       "48"
      ]
     },
     "execution_count": 3,
     "metadata": {},
     "output_type": "execute_result"
    }
   ],
   "source": [
    "def maxArea(H):\n",
    "        ans, i, j = 0, 0, len(H)-1\n",
    "        while (i < j):\n",
    "            if H[i] <= H[j]:\n",
    "                res = H[i] * (j - i)\n",
    "                i += 1\n",
    "            else:\n",
    "                res = H[j] * (j - i)\n",
    "                j -= 1\n",
    "            if res > ans: ans = res\n",
    "        return ans\n",
    "H=[1,3,6,0,3,2,7,6,1,7,10]\n",
    "maxArea(H)\n"
   ]
  },
  {
   "cell_type": "code",
   "execution_count": null,
   "metadata": {},
   "outputs": [],
   "source": []
  }
 ],
 "metadata": {
  "kernelspec": {
   "display_name": "Python 3",
   "language": "python",
   "name": "python3"
  },
  "language_info": {
   "codemirror_mode": {
    "name": "ipython",
    "version": 3
   },
   "file_extension": ".py",
   "mimetype": "text/x-python",
   "name": "python",
   "nbconvert_exporter": "python",
   "pygments_lexer": "ipython3",
   "version": "3.7.1"
  }
 },
 "nbformat": 4,
 "nbformat_minor": 2
}
