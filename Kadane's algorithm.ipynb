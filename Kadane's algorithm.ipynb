{
 "cells": [
  {
   "cell_type": "code",
   "execution_count": 8,
   "metadata": {},
   "outputs": [
    {
     "name": "stdout",
     "output_type": "stream",
     "text": [
      "Max sum = 1\n"
     ]
    }
   ],
   "source": [
    "def sub(arr):\n",
    "    n=len(arr)\n",
    "    maxsum= -1e8\n",
    "    for i in range(0,n):\n",
    "        currsum=1\n",
    "        for j in range(i,n):\n",
    "            currsum=currsum*arr[j]\n",
    "            if currsum<0:\n",
    "                currsum=1\n",
    "            if currsum>maxsum:\n",
    "                maxsum=currsum\n",
    "        return maxsum\n",
    "arr=[-2,0,-1]\n",
    "print(\"Max sum =\",sub(arr))\n",
    "            \n",
    "            "
   ]
  },
  {
   "cell_type": "code",
   "execution_count": null,
   "metadata": {},
   "outputs": [],
   "source": []
  },
  {
   "cell_type": "code",
   "execution_count": null,
   "metadata": {},
   "outputs": [],
   "source": []
  }
 ],
 "metadata": {
  "kernelspec": {
   "display_name": "Python 3",
   "language": "python",
   "name": "python3"
  },
  "language_info": {
   "codemirror_mode": {
    "name": "ipython",
    "version": 3
   },
   "file_extension": ".py",
   "mimetype": "text/x-python",
   "name": "python",
   "nbconvert_exporter": "python",
   "pygments_lexer": "ipython3",
   "version": "3.7.1"
  }
 },
 "nbformat": 4,
 "nbformat_minor": 2
}
