{
 "cells": [
  {
   "cell_type": "code",
   "execution_count": 6,
   "metadata": {},
   "outputs": [
    {
     "name": "stdout",
     "output_type": "stream",
     "text": [
      "Smallest number  2\n",
      "Highest number  33232\n"
     ]
    }
   ],
   "source": [
    "def getminmax(low,high,arr):\n",
    "    max_arr=arr[low]\n",
    "    min_arr=arr[low]\n",
    "    if low==high:\n",
    "        max_arr=arr[low]\n",
    "        min_arr=arr[low]\n",
    "        return (max_arr,min_arr)\n",
    "    elif high==low+1:\n",
    "        if arr[low]>arr[high]:\n",
    "            max_arr=arr[low]\n",
    "            min_arr=arr[high]\n",
    "        else:\n",
    "            max_arr=arr[high]\n",
    "            min_arr=arr[low]\n",
    "        return (max_arr, min_arr)\n",
    "    else:\n",
    "        mid=int((high+low)/2)\n",
    "        arr_max1,arr_min1 = getminmax(low,mid,arr)\n",
    "        arr_max2,arr_min2=getminmax(mid+1,high,arr)\n",
    "    return (max(arr_max1,arr_max2),min(arr_min1,arr_min2))\n",
    "\n",
    "arr=[312,34,90,9,33232,2]\n",
    "high=len(arr)-1\n",
    "low=0\n",
    "max_arr,min_arr=getminmax(low,high,arr)\n",
    "print(\"Smallest number \",min_arr)\n",
    "print(\"Highest number \",max_arr)\n",
    "\n",
    "    \n",
    "            "
   ]
  }
 ],
 "metadata": {
  "kernelspec": {
   "display_name": "Python 3",
   "language": "python",
   "name": "python3"
  },
  "language_info": {
   "codemirror_mode": {
    "name": "ipython",
    "version": 3
   },
   "file_extension": ".py",
   "mimetype": "text/x-python",
   "name": "python",
   "nbconvert_exporter": "python",
   "pygments_lexer": "ipython3",
   "version": "3.7.1"
  }
 },
 "nbformat": 4,
 "nbformat_minor": 2
}
