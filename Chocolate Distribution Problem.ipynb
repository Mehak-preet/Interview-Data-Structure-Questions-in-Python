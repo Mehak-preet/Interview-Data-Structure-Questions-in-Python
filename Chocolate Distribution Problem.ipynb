{
 "cells": [
  {
   "cell_type": "code",
   "execution_count": 1,
   "metadata": {},
   "outputs": [
    {
     "name": "stdout",
     "output_type": "stream",
     "text": [
      "Minimum difference is 10\n"
     ]
    }
   ],
   "source": [
    "\n",
    "def findMinDiff(arr, n, m):\n",
    "  \n",
    "    # if there are no chocolates or number\n",
    "    # of students is 0\n",
    "    if (m==0 or n==0):\n",
    "        return 0\n",
    "  \n",
    "    # Sort the given packets\n",
    "    arr.sort()\n",
    "  \n",
    "    # Number of students cannot be more than\n",
    "    # number of packets\n",
    "    if (n < m):\n",
    "        return -1\n",
    "  \n",
    "    min_diff = arr[n-1] - arr[0]\n",
    " \n",
    "    for i in range(len(arr) - m + 1):\n",
    "        min_diff = min(min_diff ,  arr[i + m - 1] - arr[i])\n",
    "      \n",
    "          \n",
    "    return min_diff\n",
    "  \n",
    "arr = [12, 4, 7, 9, 2, 23, 25, 41,30, 40, 28, 42, 30, 44, 48,43, 50]\n",
    "    m = 7                                 # Number of students\n",
    "    n = len(arr)\n",
    "    print(\"Minimum difference is\", findMinDiff(arr, n, m))\n",
    "      "
   ]
  },
  {
   "cell_type": "code",
   "execution_count": null,
   "metadata": {},
   "outputs": [],
   "source": []
  }
 ],
 "metadata": {
  "kernelspec": {
   "display_name": "Python 3",
   "language": "python",
   "name": "python3"
  },
  "language_info": {
   "codemirror_mode": {
    "name": "ipython",
    "version": 3
   },
   "file_extension": ".py",
   "mimetype": "text/x-python",
   "name": "python",
   "nbconvert_exporter": "python",
   "pygments_lexer": "ipython3",
   "version": "3.7.1"
  }
 },
 "nbformat": 4,
 "nbformat_minor": 2
}
