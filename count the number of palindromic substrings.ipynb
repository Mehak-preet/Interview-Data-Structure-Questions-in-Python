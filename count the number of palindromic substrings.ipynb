{
 "cells": [
  {
   "cell_type": "code",
   "execution_count": 7,
   "metadata": {},
   "outputs": [
    {
     "name": "stdout",
     "output_type": "stream",
     "text": [
      "3\n"
     ]
    }
   ],
   "source": [
    " def countSubstrings(s):\n",
    "        if not s: return 0\n",
    "        count = 0\n",
    "        for i in range(len(s)):\n",
    "            if ispalindrom(s[:i+1]): \n",
    "                count+=1\n",
    "        count += countSubstrings(s[1:])\n",
    "        return count\n",
    "    \n",
    "def ispalindrom(s):\n",
    "    return s==s[::-1]\n",
    "s = \"abc\"\n",
    "print(countSubstrings(s))"
   ]
  },
  {
   "cell_type": "code",
   "execution_count": null,
   "metadata": {},
   "outputs": [],
   "source": []
  }
 ],
 "metadata": {
  "kernelspec": {
   "display_name": "Python 3",
   "language": "python",
   "name": "python3"
  },
  "language_info": {
   "codemirror_mode": {
    "name": "ipython",
    "version": 3
   },
   "file_extension": ".py",
   "mimetype": "text/x-python",
   "name": "python",
   "nbconvert_exporter": "python",
   "pygments_lexer": "ipython3",
   "version": "3.7.1"
  }
 },
 "nbformat": 4,
 "nbformat_minor": 2
}
