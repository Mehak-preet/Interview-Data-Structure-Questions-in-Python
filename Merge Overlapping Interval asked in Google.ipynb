{
 "cells": [
  {
   "cell_type": "code",
   "execution_count": 1,
   "metadata": {},
   "outputs": [
    {
     "name": "stdout",
     "output_type": "stream",
     "text": [
      "The Merged Intervals are : [1, 9] "
     ]
    }
   ],
   "source": [
    "def mergeIntervals(arr):\n",
    "    arr.sort(key = lambda x: x[0])\n",
    "    m = []\n",
    "    s = -10000\n",
    "    max = -100000\n",
    "    for i in range(len(arr)):\n",
    "        a = arr[i]\n",
    "        if a[0] > max:\n",
    "            if i != 0:\n",
    "                m.append([s,max])\n",
    "            max = a[1]\n",
    "            s = a[0]\n",
    "        else:\n",
    "            if a[1] >= max:\n",
    "                max = a[1]\n",
    "         \n",
    "\n",
    "    if max != -100000 and [s, max] not in m:\n",
    "        m.append([s, max])\n",
    "    print(\"The Merged Intervals are :\", end = \" \")\n",
    "    for i in range(len(m)):\n",
    "        print(m[i], end = \" \")\n",
    "\n",
    "arr = [[6, 8], [1, 9], [2, 4], [4, 7]]\n",
    "mergeIntervals(arr)\n",
    " "
   ]
  },
  {
   "cell_type": "code",
   "execution_count": null,
   "metadata": {},
   "outputs": [],
   "source": []
  }
 ],
 "metadata": {
  "kernelspec": {
   "display_name": "Python 3",
   "language": "python",
   "name": "python3"
  },
  "language_info": {
   "codemirror_mode": {
    "name": "ipython",
    "version": 3
   },
   "file_extension": ".py",
   "mimetype": "text/x-python",
   "name": "python",
   "nbconvert_exporter": "python",
   "pygments_lexer": "ipython3",
   "version": "3.7.1"
  }
 },
 "nbformat": 4,
 "nbformat_minor": 2
}
