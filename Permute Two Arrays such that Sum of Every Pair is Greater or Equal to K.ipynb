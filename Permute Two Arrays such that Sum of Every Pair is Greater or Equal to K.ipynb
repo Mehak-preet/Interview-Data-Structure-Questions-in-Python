{
 "cells": [
  {
   "cell_type": "code",
   "execution_count": 3,
   "metadata": {},
   "outputs": [
    {
     "name": "stdout",
     "output_type": "stream",
     "text": [
      "No\n"
     ]
    }
   ],
   "source": [
    "def isPossible(a,b,n,k):\n",
    " \n",
    "    # Sort the array a[]\n",
    "    # in decreasing order.\n",
    "    a.sort(reverse=True)\n",
    "  \n",
    "    # Sort the array b[]\n",
    "    # in increasing order.\n",
    "    b.sort()\n",
    "  \n",
    "    # Checking condition\n",
    "    # on each index.\n",
    "    for i in range(n):\n",
    "        if (a[i] + b[i] < k):\n",
    "            return False\n",
    "  \n",
    "    return True\n",
    " \n",
    "a = [ 2, 1, 3,7]\n",
    "b = [7, 8, 9,2]\n",
    "k = 10\n",
    "n =len(a)\n",
    "  \n",
    "if(isPossible(a, b, n, k)):\n",
    "    print(\"Yes\")\n",
    "else:\n",
    "    print(\"No\")\n",
    " "
   ]
  },
  {
   "cell_type": "code",
   "execution_count": null,
   "metadata": {},
   "outputs": [],
   "source": []
  }
 ],
 "metadata": {
  "kernelspec": {
   "display_name": "Python 3",
   "language": "python",
   "name": "python3"
  },
  "language_info": {
   "codemirror_mode": {
    "name": "ipython",
    "version": 3
   },
   "file_extension": ".py",
   "mimetype": "text/x-python",
   "name": "python",
   "nbconvert_exporter": "python",
   "pygments_lexer": "ipython3",
   "version": "3.7.1"
  }
 },
 "nbformat": 4,
 "nbformat_minor": 2
}
