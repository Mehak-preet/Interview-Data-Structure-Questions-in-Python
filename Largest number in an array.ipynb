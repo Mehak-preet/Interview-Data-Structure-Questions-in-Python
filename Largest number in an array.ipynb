{
 "cells": [
  {
   "cell_type": "code",
   "execution_count": 7,
   "metadata": {},
   "outputs": [
    {
     "name": "stdout",
     "output_type": "stream",
     "text": [
      "87560548546544910\n"
     ]
    }
   ],
   "source": [
    "def largestNumber(array):\n",
    "    if len(array)==1: \n",
    "        return str(array[0])\n",
    "    for i in range(len(array)):\n",
    "        array[i]=str(array[i])\n",
    "\n",
    "    for i in range(len(array)):\n",
    "        for j in range(1+i,len(array)):\n",
    "            if array[j]+array[i]>array[i]+array[j]:\n",
    "                array[i],array[j]=array[j],array[i]\n",
    "    result=''.join(array)\n",
    "\n",
    "    if(result=='0'*len(result)):\n",
    "        return '0'\n",
    "    else:\n",
    "        return result\n",
    "if __name__ == \"__main__\":\n",
    "    a = [54,10, 546,49, 548, 60,75,8]\n",
    "    print(largestNumber(a))"
   ]
  },
  {
   "cell_type": "code",
   "execution_count": null,
   "metadata": {},
   "outputs": [],
   "source": []
  }
 ],
 "metadata": {
  "kernelspec": {
   "display_name": "Python 3",
   "language": "python",
   "name": "python3"
  },
  "language_info": {
   "codemirror_mode": {
    "name": "ipython",
    "version": 3
   },
   "file_extension": ".py",
   "mimetype": "text/x-python",
   "name": "python",
   "nbconvert_exporter": "python",
   "pygments_lexer": "ipython3",
   "version": "3.7.1"
  }
 },
 "nbformat": 4,
 "nbformat_minor": 2
}
