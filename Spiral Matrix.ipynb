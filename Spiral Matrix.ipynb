{
 "cells": [
  {
   "cell_type": "code",
   "execution_count": 1,
   "metadata": {},
   "outputs": [
    {
     "name": "stdout",
     "output_type": "stream",
     "text": [
      "[1, 2, 3, 6, 9, 8, 7, 4, 5]\n"
     ]
    }
   ],
   "source": [
    "def spiralOrder(matrix):\n",
    "        rowStart, rowEnd = 0, len(matrix)-1\n",
    "        colStart, colEnd = 0, len(matrix[0])-1\n",
    "        ans = []\n",
    "        while rowStart<=rowEnd and colStart<=colEnd:\n",
    "            for i in range(colStart, colEnd+1):\n",
    "                ans.append(matrix[rowStart][i])\n",
    "            for i in range(rowStart+1, rowEnd+1):\n",
    "                ans.append(matrix[i][colEnd])\n",
    "            for i in range(colEnd-1, colStart-1, -1):\n",
    "                if rowEnd>rowStart:\n",
    "                    ans.append(matrix[rowEnd][i])\n",
    "            for i in range(rowEnd-1, rowStart, -1):\n",
    "                if colEnd>colStart:\n",
    "                    ans.append(matrix[i][colStart])\n",
    "            rowStart += 1\n",
    "            rowEnd -= 1\n",
    "            colStart += 1\n",
    "            colEnd -= 1 \n",
    "        return ans\n",
    "matrix= [[1,2,3],[4,5,6],[7,8,9]]\n",
    "print(spiralOrder(matrix))"
   ]
  },
  {
   "cell_type": "code",
   "execution_count": null,
   "metadata": {},
   "outputs": [],
   "source": []
  }
 ],
 "metadata": {
  "kernelspec": {
   "display_name": "Python 3",
   "language": "python",
   "name": "python3"
  },
  "language_info": {
   "codemirror_mode": {
    "name": "ipython",
    "version": 3
   },
   "file_extension": ".py",
   "mimetype": "text/x-python",
   "name": "python",
   "nbconvert_exporter": "python",
   "pygments_lexer": "ipython3",
   "version": "3.7.1"
  }
 },
 "nbformat": 4,
 "nbformat_minor": 2
}
