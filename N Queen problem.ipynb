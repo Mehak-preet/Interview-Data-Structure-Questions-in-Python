{
 "cells": [
  {
   "cell_type": "code",
   "execution_count": 1,
   "metadata": {},
   "outputs": [
    {
     "name": "stdout",
     "output_type": "stream",
     "text": [
      "[['.Q..', '...Q', 'Q...', '..Q.'], ['..Q.', 'Q...', '...Q', '.Q..']]\n"
     ]
    }
   ],
   "source": [
    "def solveNQueens(n):\n",
    "        col=set()\n",
    "        posDiag=set()    # r+c\n",
    "        negDiag=set()    # r-c\n",
    "        res=[]\n",
    "        board=[[\".\"]*n for i in range(n)]\n",
    "        def backtrack(r):\n",
    "            if r==n:\n",
    "                copy=[\"\".join(row) for row in board]\n",
    "                res.append(copy)\n",
    "                return\n",
    "            for c in range(n):\n",
    "                if c in col or (r+c) in posDiag or (r-c) in negDiag:\n",
    "                    continue\n",
    "                \n",
    "                col.add(c)\n",
    "                posDiag.add(r+c)\n",
    "                negDiag.add(r-c)\n",
    "                board[r][c]=\"Q\"\n",
    "                \n",
    "                backtrack(r+1)\n",
    "                col.remove(c)\n",
    "                posDiag.remove(r+c)\n",
    "                negDiag.remove(r-c)\n",
    "                board[r][c]=\".\"\n",
    "        backtrack(0)\n",
    "        return res\n",
    "print(solveNQueens(4))"
   ]
  },
  {
   "cell_type": "code",
   "execution_count": null,
   "metadata": {},
   "outputs": [],
   "source": []
  }
 ],
 "metadata": {
  "kernelspec": {
   "display_name": "Python 3",
   "language": "python",
   "name": "python3"
  },
  "language_info": {
   "codemirror_mode": {
    "name": "ipython",
    "version": 3
   },
   "file_extension": ".py",
   "mimetype": "text/x-python",
   "name": "python",
   "nbconvert_exporter": "python",
   "pygments_lexer": "ipython3",
   "version": "3.7.1"
  }
 },
 "nbformat": 4,
 "nbformat_minor": 2
}
