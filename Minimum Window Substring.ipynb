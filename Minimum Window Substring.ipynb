{
 "cells": [
  {
   "cell_type": "code",
   "execution_count": null,
   "metadata": {},
   "outputs": [],
   "source": [
    "from collections import Counter\n",
    "class Solution:\n",
    "    def minWindow(self, s: str, t: str) -> str:\n",
    "        \n",
    "        # Define variables\n",
    "        s_count, t_count = Counter(), Counter(t)\n",
    "        \n",
    "        l, r = 0, 0\n",
    "        \n",
    "        results = []\n",
    "        \n",
    "        while r <= len(s)-1:\n",
    "                                    \n",
    "            # Find valid window\n",
    "            s_count[s[r]] += 1            \n",
    "            r += 1\n",
    "            if s_count & t_count != t_count:\n",
    "                continue\n",
    "                \n",
    "            # Minimize this window\n",
    "            while l < r:\n",
    "                s_count[s[l]] -= 1 \n",
    "                l += 1\n",
    "                if s_count & t_count == t_count:\n",
    "                    continue\n",
    "                results.append(s[l-1:r])\n",
    "                break\n",
    "            \n",
    "            \n",
    "        # Return result\n",
    "        if not results:\n",
    "            return \"\"        \n",
    "        return min(results, key=len)"
   ]
  }
 ],
 "metadata": {
  "kernelspec": {
   "display_name": "Python 3",
   "language": "python",
   "name": "python3"
  },
  "language_info": {
   "codemirror_mode": {
    "name": "ipython",
    "version": 3
   },
   "file_extension": ".py",
   "mimetype": "text/x-python",
   "name": "python",
   "nbconvert_exporter": "python",
   "pygments_lexer": "ipython3",
   "version": "3.7.1"
  }
 },
 "nbformat": 4,
 "nbformat_minor": 2
}
