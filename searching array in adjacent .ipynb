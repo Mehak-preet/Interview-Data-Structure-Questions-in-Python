{
 "cells": [
  {
   "cell_type": "code",
   "execution_count": 1,
   "metadata": {},
   "outputs": [
    {
     "name": "stdout",
     "output_type": "stream",
     "text": [
      "Element 6 is present at index 5\n"
     ]
    }
   ],
   "source": [
    "def search(arr, n, x, k):\n",
    "    i = 0\n",
    "    while (i < n):\n",
    "        if (arr[i] == x):\n",
    "            return i\n",
    "        i = i + max(1, int(abs(arr[i] - x) / k))\n",
    "    print(\"number is not present!\")\n",
    "    return -1\n",
    "arr = [2, 4, 5, 7, 7, 6]\n",
    "x = 6\n",
    "k = 2\n",
    "n = len(arr)\n",
    "print(\"Element\", x, \"is present at index\",search(arr, n, x, k))"
   ]
  },
  {
   "cell_type": "code",
   "execution_count": null,
   "metadata": {},
   "outputs": [],
   "source": []
  }
 ],
 "metadata": {
  "kernelspec": {
   "display_name": "Python 3",
   "language": "python",
   "name": "python3"
  },
  "language_info": {
   "codemirror_mode": {
    "name": "ipython",
    "version": 3
   },
   "file_extension": ".py",
   "mimetype": "text/x-python",
   "name": "python",
   "nbconvert_exporter": "python",
   "pygments_lexer": "ipython3",
   "version": "3.7.1"
  }
 },
 "nbformat": 4,
 "nbformat_minor": 2
}
