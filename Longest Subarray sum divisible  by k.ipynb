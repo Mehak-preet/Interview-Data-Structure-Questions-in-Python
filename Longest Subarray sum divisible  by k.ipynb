{
 "cells": [
  {
   "cell_type": "code",
   "execution_count": 1,
   "metadata": {},
   "outputs": [
    {
     "name": "stdout",
     "output_type": "stream",
     "text": [
      "4\n"
     ]
    }
   ],
   "source": [
    "def longSubarrWthSumDivByK(arr, n, k):\n",
    "   \n",
    "    # unordered map 'um' implemented as\n",
    "    # hash table\n",
    "    um = {}\n",
    " \n",
    "    # 'mod_arr[i]' stores (sum[0..i] % k)\n",
    "    max = 0\n",
    "    curr_sum = 0\n",
    " \n",
    "    for i in range(0, n):\n",
    "        curr_sum += arr[i]\n",
    "        mod = ((curr_sum % k) + k) % k\n",
    "        # if true then sum(0..i) is divisible by k\n",
    "        if mod == 0:\n",
    "            # update 'max'\n",
    "            max = i + 1\n",
    "             \n",
    "        # if value 'mod_arr[i]' not present in 'um'\n",
    "        # then store it in 'um' with index of its\n",
    "        # first occurrence\n",
    "        elif mod in um.keys():\n",
    "            if max < (i - um[mod]):\n",
    "                max = i - um[mod]\n",
    " \n",
    "        else:\n",
    "            um[mod] = i\n",
    " \n",
    "    # required length of longest subarray with\n",
    "    # sum divisible by 'k'\n",
    "    return max\n",
    "   \n",
    "arr = [2, 7, 6, 1, 4, 5]\n",
    "n = len(arr)\n",
    "k = 3\n",
    "print(longSubarrWthSumDivByK(arr, n, k))"
   ]
  },
  {
   "cell_type": "code",
   "execution_count": null,
   "metadata": {},
   "outputs": [],
   "source": []
  }
 ],
 "metadata": {
  "kernelspec": {
   "display_name": "Python 3",
   "language": "python",
   "name": "python3"
  },
  "language_info": {
   "codemirror_mode": {
    "name": "ipython",
    "version": 3
   },
   "file_extension": ".py",
   "mimetype": "text/x-python",
   "name": "python",
   "nbconvert_exporter": "python",
   "pygments_lexer": "ipython3",
   "version": "3.7.1"
  }
 },
 "nbformat": 4,
 "nbformat_minor": 2
}
