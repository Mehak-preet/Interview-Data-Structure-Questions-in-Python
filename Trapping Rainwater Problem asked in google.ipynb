{
 "cells": [
  {
   "cell_type": "code",
   "execution_count": 3,
   "metadata": {},
   "outputs": [
    {
     "name": "stdout",
     "output_type": "stream",
     "text": [
      "6\n"
     ]
    }
   ],
   "source": [
    "def trap(height):\n",
    "    if not height:\n",
    "        return\n",
    "    l=0\n",
    "    r=len(height)-1\n",
    "    leftmax=height[l]\n",
    "    rightmax=height[r]\n",
    "    res=0\n",
    "    while(l<r):\n",
    "        if leftmax<rightmax:\n",
    "            l=l+1\n",
    "            leftmax=max(leftmax,height[l])\n",
    "            res+=leftmax-height[l]\n",
    "        else:\n",
    "            r=r-1\n",
    "            rightmax=max(rightmax,height[r])\n",
    "            res+=rightmax-height[r]\n",
    "    return res\n",
    "height=[0,1,0,2,1,0,1,3,2,1,2,1]\n",
    "print(trap(height))"
   ]
  },
  {
   "cell_type": "code",
   "execution_count": null,
   "metadata": {},
   "outputs": [],
   "source": []
  }
 ],
 "metadata": {
  "kernelspec": {
   "display_name": "Python 3",
   "language": "python",
   "name": "python3"
  },
  "language_info": {
   "codemirror_mode": {
    "name": "ipython",
    "version": 3
   },
   "file_extension": ".py",
   "mimetype": "text/x-python",
   "name": "python",
   "nbconvert_exporter": "python",
   "pygments_lexer": "ipython3",
   "version": "3.7.1"
  }
 },
 "nbformat": 4,
 "nbformat_minor": 2
}
