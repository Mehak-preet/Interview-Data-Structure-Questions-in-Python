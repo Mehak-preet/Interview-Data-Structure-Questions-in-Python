{
 "cells": [
  {
   "cell_type": "code",
   "execution_count": 3,
   "metadata": {},
   "outputs": [
    {
     "name": "stdout",
     "output_type": "stream",
     "text": [
      "Minimum number of operations required is 3\n"
     ]
    }
   ],
   "source": [
    "def minOps(A, B):\n",
    "    m = len(A)\n",
    "    n = len(B)\n",
    " \n",
    "    if n != m:\n",
    "        return -1\n",
    " \n",
    "    count = [0] * 256\n",
    " \n",
    "    for i in range(n):        # count characters in A\n",
    "        count[ord(B[i])] += 1\n",
    "    for i in range(n):        # subtract count for every char in B\n",
    "        count[ord(A[i])] -= 1\n",
    "    for i in range(256):    # Check if all counts become 0\n",
    "        if count[i]:\n",
    "            return -1\n",
    " \n",
    "    res = 0\n",
    "    i = n-1\n",
    "    j = n-1   \n",
    "    while i >= 0:\n",
    "     \n",
    "        # if there is a mismatch, then keep incrementing\n",
    "        # result 'res' until B[j] is not found in A[0..i]\n",
    "        while i>= 0 and A[i] != B[j]:\n",
    "            i -= 1\n",
    "            res += 1\n",
    " \n",
    "        # if A[i] and B[j] match\n",
    "        if i >= 0:\n",
    "            i -= 1\n",
    "            j -= 1\n",
    " \n",
    "    return res\n",
    " \n",
    "# Driver program\n",
    "A = \"EACBDF\"\n",
    "B = \"EABCDF\"\n",
    "print (\"Minimum number of operations required is \" + str(minOps(A,B)))\n"
   ]
  },
  {
   "cell_type": "code",
   "execution_count": null,
   "metadata": {},
   "outputs": [],
   "source": []
  }
 ],
 "metadata": {
  "kernelspec": {
   "display_name": "Python 3",
   "language": "python",
   "name": "python3"
  },
  "language_info": {
   "codemirror_mode": {
    "name": "ipython",
    "version": 3
   },
   "file_extension": ".py",
   "mimetype": "text/x-python",
   "name": "python",
   "nbconvert_exporter": "python",
   "pygments_lexer": "ipython3",
   "version": "3.7.1"
  }
 },
 "nbformat": 4,
 "nbformat_minor": 2
}
