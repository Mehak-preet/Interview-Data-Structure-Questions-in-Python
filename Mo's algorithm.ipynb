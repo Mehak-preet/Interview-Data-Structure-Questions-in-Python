{
 "cells": [
  {
   "cell_type": "code",
   "execution_count": 2,
   "metadata": {},
   "outputs": [
    {
     "name": "stdout",
     "output_type": "stream",
     "text": [
      "Sum of [1, 3] is 4\n",
      "Sum of [-1, 4] is 16\n",
      "Sum of [2, 4] is 6\n"
     ]
    }
   ],
   "source": [
    "\n",
    "import math\n",
    "def queryResults(arr,Q):\n",
    "     \n",
    "    #Q.sort(): # Sort by L\n",
    "    #sort all queries so that all queries in the increasing order of R values . \n",
    "    Q.sort(key=lambda x: x[1])\n",
    "     \n",
    "    # Initialize current L, current R and current sum\n",
    "    currL,currR,currSum = 0,0,0\n",
    "     \n",
    "    # Traverse through all queries\n",
    "    for i in range(len(Q)):\n",
    "        L,R = Q[i] # L and R values of current range\n",
    "         \n",
    "        # Remove extra elements from previous range\n",
    "        # if previous range is [0, 3] and current \n",
    "        # range is [2, 5], then a[0] and a[1] are subtracted \n",
    "        while currL<L:\n",
    "            currSum-=arr[currL]\n",
    "            currL+=1\n",
    "             \n",
    "        # Add elements of current range\n",
    "        while currL>L:\n",
    "            currSum+=arr[currL-1]\n",
    "            currL-=1\n",
    "        while currR<=R:\n",
    "            currSum+=arr[currR]\n",
    "            currR+=1\n",
    "             \n",
    "        # Remove elements of previous range\n",
    "        # when previous range is [0, 10] and current range \n",
    "        # is [3, 8], then a[9] and a[10] are subtracted \n",
    "        while currR>R+1:\n",
    "            currSum-=arr[currR-1]\n",
    "            currR-=1\n",
    "         \n",
    "        # Print the sum of current range\n",
    "        print(\"Sum of\",Q[i],\"is\",currSum)\n",
    " \n",
    "arr = [1, 1, 2, 1, 3, 4, 5, 2, 8]\n",
    "Q = [[-1, 4], [1, 3], [2, 4]]\n",
    "queryResults(arr,Q)"
   ]
  },
  {
   "cell_type": "code",
   "execution_count": null,
   "metadata": {},
   "outputs": [],
   "source": []
  }
 ],
 "metadata": {
  "kernelspec": {
   "display_name": "Python 3",
   "language": "python",
   "name": "python3"
  },
  "language_info": {
   "codemirror_mode": {
    "name": "ipython",
    "version": 3
   },
   "file_extension": ".py",
   "mimetype": "text/x-python",
   "name": "python",
   "nbconvert_exporter": "python",
   "pygments_lexer": "ipython3",
   "version": "3.7.1"
  }
 },
 "nbformat": 4,
 "nbformat_minor": 2
}
