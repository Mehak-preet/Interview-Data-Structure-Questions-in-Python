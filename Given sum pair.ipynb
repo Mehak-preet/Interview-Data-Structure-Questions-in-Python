{
 "cells": [
  {
   "cell_type": "code",
   "execution_count": null,
   "metadata": {},
   "outputs": [],
   "source": [
    "def pairInSortedRotated( arr, n, x ):\n",
    "    for i in range(0, n - 1):\n",
    "        if (arr[i] > arr[i + 1]):\n",
    "            break;\n",
    "    l = (i + 1) % n\n",
    "    r = i\n",
    "    while (l != r):\n",
    "        if (arr[l] + arr[r] == x):\n",
    "            return True;\n",
    "        if (arr[l] + arr[r] < x):\n",
    "            l = (l + 1) % n;\n",
    "        else:\n",
    "            r = (n + r - 1) % n;\n",
    "    return False;\n",
    "    \n",
    "arr = [11, 15, 6, 8, 9, 10]\n",
    "sum = 16\n",
    "n = len(arr)\n",
    " \n",
    "if (pairInSortedRotated(arr, n, sum)):\n",
    "    print(\"Array has two elements with sum 16\")\n",
    "else:\n",
    "    print(\"Array doesn't have two elements with sum 16 \")"
   ]
  },
  {
   "cell_type": "code",
   "execution_count": null,
   "metadata": {},
   "outputs": [],
   "source": []
  },
  {
   "cell_type": "code",
   "execution_count": null,
   "metadata": {},
   "outputs": [],
   "source": []
  }
 ],
 "metadata": {
  "kernelspec": {
   "display_name": "Python 3",
   "language": "python",
   "name": "python3"
  },
  "language_info": {
   "codemirror_mode": {
    "name": "ipython",
    "version": 3
   },
   "file_extension": ".py",
   "mimetype": "text/x-python",
   "name": "python",
   "nbconvert_exporter": "python",
   "pygments_lexer": "ipython3",
   "version": "3.7.1"
  }
 },
 "nbformat": 4,
 "nbformat_minor": 2
}
